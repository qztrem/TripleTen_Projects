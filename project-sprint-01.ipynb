{
 "cells": [
  {
   "cell_type": "markdown",
   "id": "b38fc4f4",
   "metadata": {
    "papermill": {
     "duration": 0.00872,
     "end_time": "2024-04-22T23:46:29.504574",
     "exception": false,
     "start_time": "2024-04-22T23:46:29.495854",
     "status": "completed"
    },
    "tags": []
   },
   "source": []
  },
  {
   "cell_type": "code",
   "execution_count": 1,
   "id": "ccaddd2e",
   "metadata": {
    "_cell_guid": "b1076dfc-b9ad-4769-8c92-a6c4dae69d19",
    "_uuid": "8f2839f25d086af736a60e9eeb907d3b93b6e0e5",
    "execution": {
     "iopub.execute_input": "2024-04-22T23:46:29.523172Z",
     "iopub.status.busy": "2024-04-22T23:46:29.522686Z",
     "iopub.status.idle": "2024-04-22T23:46:30.538017Z",
     "shell.execute_reply": "2024-04-22T23:46:30.536712Z"
    },
    "papermill": {
     "duration": 1.028468,
     "end_time": "2024-04-22T23:46:30.541335",
     "exception": false,
     "start_time": "2024-04-22T23:46:29.512867",
     "status": "completed"
    },
    "tags": []
   },
   "outputs": [],
   "source": [
    "# This Python 3 environment comes with many helpful analytics libraries installed\n",
    "# It is defined by the kaggle/python Docker image: https://github.com/kaggle/docker-python\n",
    "# For example, here's several helpful packages to load\n",
    "\n",
    "import numpy as np # linear algebra\n",
    "import pandas as pd # data processing, CSV file I/O (e.g. pd.read_csv)\n",
    "\n",
    "# Input data files are available in the read-only \"../input/\" directory\n",
    "# For example, running this (by clicking run or pressing Shift+Enter) will list all files under the input directory\n",
    "\n",
    "import os\n",
    "for dirname, _, filenames in os.walk('/kaggle/input'):\n",
    "    for filename in filenames:\n",
    "        print(os.path.join(dirname, filename))\n",
    "\n",
    "# You can write up to 20GB to the current directory (/kaggle/working/) that gets preserved as output when you create a version using \"Save & Run All\" \n",
    "# You can also write temporary files to /kaggle/temp/, but they won't be saved outside of the current session"
   ]
  },
  {
   "cell_type": "markdown",
   "id": "61a0790e",
   "metadata": {
    "papermill": {
     "duration": 0.008004,
     "end_time": "2024-04-22T23:46:30.557873",
     "exception": false,
     "start_time": "2024-04-22T23:46:30.549869",
     "status": "completed"
    },
    "tags": []
   },
   "source": [
    "An e-commerce company, Store 1, has recently started collecting data about its customers. Store 1's goal is to better understand customer behavior and make data-driven decisions to improve their online experience.\n",
    "\n",
    "As part of the analytics team, your first task is to assess the quality of a sample of collected data and prepare it for future analysis.\n",
    "\n",
    "Quiz\n",
    "Store 1 aims to ensure consistency in data collection. As part of this effort, the quality of the data collected about users needs to be evaluated. You have been asked to review the collected data and propose changes. Below, you will see data about a particular user. Review the data and identify possible issues.\n",
    "\n",
    "user_id = '32415'\n",
    "user_name = ' mike_reed '\n",
    "user_age = 32.0\n",
    "fav_categories = ['ELECTRONICS', 'SPORT', 'BOOKS']\n",
    "\n",
    "Task 1\n",
    "Let's implement the changes we identified. First, we want to address the issues with the variable user_name. As we've observed, it contains unnecessary spaces and an underscore as a separator between the first name and last name. Your goal is to remove the spaces and then replace the underscore with a space.\n",
    "\n",
    "OBSERVATION:\n",
    "Some words may be shown in portugues, once it is my birth language and I printed some phrases in portuguese."
   ]
  },
  {
   "cell_type": "code",
   "execution_count": 2,
   "id": "480f62fe",
   "metadata": {
    "execution": {
     "iopub.execute_input": "2024-04-22T23:46:30.577613Z",
     "iopub.status.busy": "2024-04-22T23:46:30.576250Z",
     "iopub.status.idle": "2024-04-22T23:46:30.583213Z",
     "shell.execute_reply": "2024-04-22T23:46:30.582026Z"
    },
    "papermill": {
     "duration": 0.020056,
     "end_time": "2024-04-22T23:46:30.586131",
     "exception": false,
     "start_time": "2024-04-22T23:46:30.566075",
     "status": "completed"
    },
    "tags": []
   },
   "outputs": [
    {
     "name": "stdout",
     "output_type": "stream",
     "text": [
      "mike reed\n"
     ]
    }
   ],
   "source": [
    "user_name = ' mike_reed '\n",
    "user_name = user_name.strip()\n",
    "user_name = user_name.replace('_', ' ')\n",
    "\n",
    "print(user_name)"
   ]
  },
  {
   "cell_type": "markdown",
   "id": "3008e198",
   "metadata": {
    "papermill": {
     "duration": 0.008395,
     "end_time": "2024-04-22T23:46:30.602929",
     "exception": false,
     "start_time": "2024-04-22T23:46:30.594534",
     "status": "completed"
    },
    "tags": []
   },
   "source": [
    "Task 2\n",
    "Next, we need to split the updated user_name into two substrings to obtain a list containing two values: the string for the first name and the string for the last name."
   ]
  },
  {
   "cell_type": "code",
   "execution_count": 3,
   "id": "a2b84b58",
   "metadata": {
    "execution": {
     "iopub.execute_input": "2024-04-22T23:46:30.621892Z",
     "iopub.status.busy": "2024-04-22T23:46:30.621417Z",
     "iopub.status.idle": "2024-04-22T23:46:30.627644Z",
     "shell.execute_reply": "2024-04-22T23:46:30.626412Z"
    },
    "papermill": {
     "duration": 0.01878,
     "end_time": "2024-04-22T23:46:30.630249",
     "exception": false,
     "start_time": "2024-04-22T23:46:30.611469",
     "status": "completed"
    },
    "tags": []
   },
   "outputs": [
    {
     "name": "stdout",
     "output_type": "stream",
     "text": [
      "['mike', 'reed']\n"
     ]
    }
   ],
   "source": [
    "user_name = 'mike reed'\n",
    "name_split = user_name.split()\n",
    "\n",
    "print(name_split)"
   ]
  },
  {
   "cell_type": "markdown",
   "id": "45d3789c",
   "metadata": {
    "papermill": {
     "duration": 0.009949,
     "end_time": "2024-04-22T23:46:30.648644",
     "exception": false,
     "start_time": "2024-04-22T23:46:30.638695",
     "status": "completed"
    },
    "tags": []
   },
   "source": [
    "Task 3\n",
    "Great! Now we want to work with the user_age variable. As mentioned before, it has an incorrect data type. Let's fix this issue by converting the data type and printing the final result."
   ]
  },
  {
   "cell_type": "code",
   "execution_count": 4,
   "id": "b4198d37",
   "metadata": {
    "execution": {
     "iopub.execute_input": "2024-04-22T23:46:30.668253Z",
     "iopub.status.busy": "2024-04-22T23:46:30.667088Z",
     "iopub.status.idle": "2024-04-22T23:46:30.673218Z",
     "shell.execute_reply": "2024-04-22T23:46:30.672114Z"
    },
    "papermill": {
     "duration": 0.019087,
     "end_time": "2024-04-22T23:46:30.676375",
     "exception": false,
     "start_time": "2024-04-22T23:46:30.657288",
     "status": "completed"
    },
    "tags": []
   },
   "outputs": [
    {
     "name": "stdout",
     "output_type": "stream",
     "text": [
      "32\n"
     ]
    }
   ],
   "source": [
    "user_age = 32.0\n",
    "user_age = int(user_age)\n",
    "\n",
    "print(user_age)"
   ]
  },
  {
   "cell_type": "markdown",
   "id": "e4011d4f",
   "metadata": {
    "papermill": {
     "duration": 0.008188,
     "end_time": "2024-04-22T23:46:30.693113",
     "exception": false,
     "start_time": "2024-04-22T23:46:30.684925",
     "status": "completed"
    },
    "tags": []
   },
   "source": [
    "Task 4\n",
    "As we know, data is not always perfect. We have to consider scenarios where the value of user_age cannot be converted to an integer. To prevent our system from failing, we should take preemptive measures.\n",
    "\n",
    "Write a code that attempts to convert the user_age variable to an integer and assigns the transformed value to user_age_int. If the attempt fails, let's display a message asking the user to provide their age as a numerical value with the message: Please provide your age as a numerical value."
   ]
  },
  {
   "cell_type": "code",
   "execution_count": 5,
   "id": "8a50de0e",
   "metadata": {
    "execution": {
     "iopub.execute_input": "2024-04-22T23:46:30.713271Z",
     "iopub.status.busy": "2024-04-22T23:46:30.712838Z",
     "iopub.status.idle": "2024-04-22T23:46:30.719136Z",
     "shell.execute_reply": "2024-04-22T23:46:30.718003Z"
    },
    "papermill": {
     "duration": 0.020507,
     "end_time": "2024-04-22T23:46:30.722292",
     "exception": false,
     "start_time": "2024-04-22T23:46:30.701785",
     "status": "completed"
    },
    "tags": []
   },
   "outputs": [
    {
     "name": "stdout",
     "output_type": "stream",
     "text": [
      "Forneça sua idade como um valor numérico.\n"
     ]
    }
   ],
   "source": [
    "user_age = 'vinte e nove'\n",
    "\n",
    "try:\n",
    "    user_age_int = int(user_age)\n",
    "    print(user_age_int)\n",
    "except:\n",
    "    print('Forneça sua idade como um valor numérico.')"
   ]
  },
  {
   "cell_type": "markdown",
   "id": "81755967",
   "metadata": {
    "papermill": {
     "duration": 0.008268,
     "end_time": "2024-04-22T23:46:30.739339",
     "exception": false,
     "start_time": "2024-04-22T23:46:30.731071",
     "status": "completed"
    },
    "tags": []
   },
   "source": [
    "Task 5\n",
    "Finally, note that all favorite categories are stored in uppercase letters. To populate a new list called fav_categories_low with the same categories but in lowercase letters, iterate over the values in the fav_categories list, modify them, and append the new values to the fav_categories_low list. As always, print the final result."
   ]
  },
  {
   "cell_type": "code",
   "execution_count": 6,
   "id": "234cda85",
   "metadata": {
    "execution": {
     "iopub.execute_input": "2024-04-22T23:46:30.758663Z",
     "iopub.status.busy": "2024-04-22T23:46:30.758246Z",
     "iopub.status.idle": "2024-04-22T23:46:30.765099Z",
     "shell.execute_reply": "2024-04-22T23:46:30.763894Z"
    },
    "papermill": {
     "duration": 0.020015,
     "end_time": "2024-04-22T23:46:30.767955",
     "exception": false,
     "start_time": "2024-04-22T23:46:30.747940",
     "status": "completed"
    },
    "tags": []
   },
   "outputs": [
    {
     "name": "stdout",
     "output_type": "stream",
     "text": [
      "['electronics', 'sport', 'books']\n"
     ]
    }
   ],
   "source": [
    "fav_categories = ['ELECTRONICS', 'SPORT', 'BOOKS']\n",
    "fav_categories_low = []\n",
    "\n",
    "for categorie in fav_categories:\n",
    "    fav_categories_low.append(categorie.lower())\n",
    "\n",
    "print(fav_categories_low)"
   ]
  },
  {
   "cell_type": "markdown",
   "id": "88a00509",
   "metadata": {
    "papermill": {
     "duration": 0.008582,
     "end_time": "2024-04-22T23:46:30.785435",
     "exception": false,
     "start_time": "2024-04-22T23:46:30.776853",
     "status": "completed"
    },
    "tags": []
   },
   "source": [
    "Task 6\n",
    "We have obtained additional information about the consumption habits of our users, including the amount spent in each of their favorite categories. Management is interested in the following metrics:\n",
    "\n",
    "Total amount spent by the user\n",
    "Minimum amount spent\n",
    "Maximum amount spent\n",
    "Let's calculate and print these values:"
   ]
  },
  {
   "cell_type": "code",
   "execution_count": 7,
   "id": "29f240b8",
   "metadata": {
    "execution": {
     "iopub.execute_input": "2024-04-22T23:46:30.804874Z",
     "iopub.status.busy": "2024-04-22T23:46:30.804420Z",
     "iopub.status.idle": "2024-04-22T23:46:30.812863Z",
     "shell.execute_reply": "2024-04-22T23:46:30.811274Z"
    },
    "papermill": {
     "duration": 0.021434,
     "end_time": "2024-04-22T23:46:30.815531",
     "exception": false,
     "start_time": "2024-04-22T23:46:30.794097",
     "status": "completed"
    },
    "tags": []
   },
   "outputs": [
    {
     "name": "stdout",
     "output_type": "stream",
     "text": [
      "1280\n",
      "894\n",
      "173\n"
     ]
    }
   ],
   "source": [
    "fav_categories_low = ['electronics', 'sport', 'books']\n",
    "spendings_per_category = [894, 213, 173]\n",
    "\n",
    "total_amount = sum(spendings_per_category)\n",
    "max_amount = max(spendings_per_category)\n",
    "min_amount = min(spendings_per_category)\n",
    "\n",
    "print(total_amount)\n",
    "print(max_amount)\n",
    "print(min_amount)"
   ]
  },
  {
   "cell_type": "markdown",
   "id": "fc7d3dd2",
   "metadata": {
    "papermill": {
     "duration": 0.008744,
     "end_time": "2024-04-22T23:46:30.833305",
     "exception": false,
     "start_time": "2024-04-22T23:46:30.824561",
     "status": "completed"
    },
    "tags": []
   },
   "source": [
    "Task 7\n",
    "The company wants to offer discounts to its loyal customers. Customers who make purchases totaling more than $1,500 are considered loyal and will receive a discount.\n",
    "\n",
    "Our goal is to create a while loop that checks the total amount spent and stops when it is reached. To simulate new purchases, the new_purchase variable generates a number between 30 and 80 in each cycle. This represents the amount of money spent on a new purchase, and it's what you need to add to the total.\n",
    "\n",
    "Once the target value is reached and the while loop is terminated, the final value will be printed."
   ]
  },
  {
   "cell_type": "code",
   "execution_count": 8,
   "id": "0a10cad5",
   "metadata": {
    "execution": {
     "iopub.execute_input": "2024-04-22T23:46:30.853967Z",
     "iopub.status.busy": "2024-04-22T23:46:30.852939Z",
     "iopub.status.idle": "2024-04-22T23:46:30.860204Z",
     "shell.execute_reply": "2024-04-22T23:46:30.859061Z"
    },
    "papermill": {
     "duration": 0.02027,
     "end_time": "2024-04-22T23:46:30.862638",
     "exception": false,
     "start_time": "2024-04-22T23:46:30.842368",
     "status": "completed"
    },
    "tags": []
   },
   "outputs": [
    {
     "name": "stdout",
     "output_type": "stream",
     "text": [
      "1510\n"
     ]
    }
   ],
   "source": [
    "from random import randint\n",
    "\n",
    "total_amount_spent = 1280\n",
    "target_amount = 1500\n",
    "\n",
    "while total_amount_spent <= 1500:\n",
    "\tnew_purchase = randint(30, 80)\n",
    "\ttotal_amount_spent += new_purchase\n",
    "\n",
    "print(total_amount_spent)"
   ]
  },
  {
   "cell_type": "markdown",
   "id": "e97675fa",
   "metadata": {
    "papermill": {
     "duration": 0.008709,
     "end_time": "2024-04-22T23:46:30.880329",
     "exception": false,
     "start_time": "2024-04-22T23:46:30.871620",
     "status": "completed"
    },
    "tags": []
   },
   "source": [
    "Task 8\n",
    "Now we have all the information about a customer in the format we want. The management of a company has asked us to find a way to summarize all the information about a user. Your goal is to create a formatted string that uses information from the user_id, user_name, and user_age variables.\n",
    "\n",
    "Here is the final string we want to create: User 32415 is named Mike and is 32 years old."
   ]
  },
  {
   "cell_type": "code",
   "execution_count": 9,
   "id": "ae9a1679",
   "metadata": {
    "execution": {
     "iopub.execute_input": "2024-04-22T23:46:30.900569Z",
     "iopub.status.busy": "2024-04-22T23:46:30.900114Z",
     "iopub.status.idle": "2024-04-22T23:46:30.906905Z",
     "shell.execute_reply": "2024-04-22T23:46:30.905637Z"
    },
    "papermill": {
     "duration": 0.020314,
     "end_time": "2024-04-22T23:46:30.909956",
     "exception": false,
     "start_time": "2024-04-22T23:46:30.889642",
     "status": "completed"
    },
    "tags": []
   },
   "outputs": [
    {
     "name": "stdout",
     "output_type": "stream",
     "text": [
      "Usuário 32415 chama-se mike e tem 32 anos.\n"
     ]
    }
   ],
   "source": [
    "user_id = '32415'\n",
    "user_name = ['mike', 'reed']\n",
    "user_age = 32\n",
    "\n",
    "user_info = 'Usuário {} chama-se {} e tem {} anos.'.format(user_id, user_name[0], user_age)\n",
    "\n",
    "print(user_info)"
   ]
  },
  {
   "cell_type": "markdown",
   "id": "5f2b75f6",
   "metadata": {
    "papermill": {
     "duration": 0.008585,
     "end_time": "2024-04-22T23:46:30.927807",
     "exception": false,
     "start_time": "2024-04-22T23:46:30.919222",
     "status": "completed"
    },
    "tags": []
   },
   "source": [
    "The Store 1 has created this table for its users. It is stored in the variable users. Each sublist contains the user ID, first name, last name, age, favorite categories, and the amount spent in each category.\n",
    "\n",
    "Task 9\n",
    "To calculate the company's revenue, follow these steps:\n",
    "\n",
    "Use a for loop to iterate over the users list.\n",
    "Extract the spending list of each user and sum the values.\n",
    "Update the revenue value with the total of each user.\n",
    "This will provide the total revenue of the company, which you will print out at the end."
   ]
  },
  {
   "cell_type": "code",
   "execution_count": 10,
   "id": "008fbadf",
   "metadata": {
    "execution": {
     "iopub.execute_input": "2024-04-22T23:46:30.947494Z",
     "iopub.status.busy": "2024-04-22T23:46:30.947052Z",
     "iopub.status.idle": "2024-04-22T23:46:30.955326Z",
     "shell.execute_reply": "2024-04-22T23:46:30.954030Z"
    },
    "papermill": {
     "duration": 0.022405,
     "end_time": "2024-04-22T23:46:30.959107",
     "exception": false,
     "start_time": "2024-04-22T23:46:30.936702",
     "status": "completed"
    },
    "tags": []
   },
   "outputs": [
    {
     "name": "stdout",
     "output_type": "stream",
     "text": [
      "2109\n"
     ]
    }
   ],
   "source": [
    "users = [\n",
    "    ['32415', ['mike', 'reed'], 32, ['electronics', 'sport', 'books'],\n",
    "        [894, 213, 173]\n",
    "    ], \n",
    "    \n",
    "    ['31980', ['kate', 'morgan'], 24, ['clothes', 'shoes'],\n",
    "        [439, 390]\n",
    "    ] \n",
    "]\n",
    "\n",
    "revenue = 0\n",
    "\n",
    "for user in users:\n",
    "\tspendings_list = user[4]\n",
    "\ttotal_spendings = sum(spendings_list)\n",
    "\trevenue += total_spendings\n",
    "\n",
    "print(revenue)"
   ]
  },
  {
   "cell_type": "markdown",
   "id": "1903fdf0",
   "metadata": {
    "papermill": {
     "duration": 0.008522,
     "end_time": "2024-04-22T23:46:30.976819",
     "exception": false,
     "start_time": "2024-04-22T23:46:30.968297",
     "status": "completed"
    },
    "tags": []
   },
   "source": [
    "Task 10\n",
    "Use a for loop to iterate over the list of users we provided and print the names of customers who are under 30 years old."
   ]
  },
  {
   "cell_type": "code",
   "execution_count": 11,
   "id": "0f9116a7",
   "metadata": {
    "execution": {
     "iopub.execute_input": "2024-04-22T23:46:30.997145Z",
     "iopub.status.busy": "2024-04-22T23:46:30.996177Z",
     "iopub.status.idle": "2024-04-22T23:46:31.009323Z",
     "shell.execute_reply": "2024-04-22T23:46:31.008248Z"
    },
    "papermill": {
     "duration": 0.026264,
     "end_time": "2024-04-22T23:46:31.012138",
     "exception": false,
     "start_time": "2024-04-22T23:46:30.985874",
     "status": "completed"
    },
    "tags": []
   },
   "outputs": [
    {
     "name": "stdout",
     "output_type": "stream",
     "text": [
      "kate morgan\n",
      "samantha smith\n",
      "emily brown\n",
      "jose martinez\n",
      "james lee\n"
     ]
    }
   ],
   "source": [
    "users = [\n",
    "    ['32415', ['mike', 'reed'], 32, ['electronics', 'sport', 'books'],\n",
    "     [894, 213, 173]],\n",
    "    ['31980', ['kate', 'morgan'], 24, ['clothes', 'books'], [439,\n",
    "     390]],\n",
    "    ['32156', ['john', 'doe'], 37, ['electronics', 'home', 'food'],\n",
    "     [459, 120, 99]],\n",
    "    ['32761', ['samantha', 'smith'], 29, ['clothes', 'electronics',\n",
    "     'beauty'], [299, 679, 85]],\n",
    "    ['32984', ['david', 'white'], 41, ['books', 'home', 'sport'], [234,\n",
    "     329, 243]],\n",
    "    ['33001', ['emily', 'brown'], 26, ['beauty', 'home', 'food'], [213,\n",
    "     659, 79]],\n",
    "    ['33767', ['maria', 'garcia'], 33, ['clothes', 'food', 'beauty'],\n",
    "     [499, 189, 63]],\n",
    "    ['33912', ['jose', 'martinez'], 22, ['sport', 'electronics', 'home'\n",
    "     ], [259, 549, 109]],\n",
    "    ['34009', ['lisa', 'wilson'], 35, ['home', 'books', 'clothes'],\n",
    "     [329, 189, 329]],\n",
    "    ['34278', ['james', 'lee'], 28, ['beauty', 'clothes', 'electronics'\n",
    "     ], [189, 299, 579]],\n",
    "    ]\n",
    "\n",
    "for user in users:\n",
    "    if user[2] < 30:\n",
    "        user[1] = ' '.join(user[1])\n",
    "        print(user[1])"
   ]
  },
  {
   "cell_type": "markdown",
   "id": "d729da8e",
   "metadata": {
    "papermill": {
     "duration": 0.00888,
     "end_time": "2024-04-22T23:46:31.030934",
     "exception": false,
     "start_time": "2024-04-22T23:46:31.022054",
     "status": "completed"
    },
    "tags": []
   },
   "source": [
    "Task 11\n",
    "Let's combine tasks 9 and 10 and print the names of users under 30 years old with total spending above $1,000."
   ]
  },
  {
   "cell_type": "code",
   "execution_count": 12,
   "id": "5db936c7",
   "metadata": {
    "execution": {
     "iopub.execute_input": "2024-04-22T23:46:31.051015Z",
     "iopub.status.busy": "2024-04-22T23:46:31.050620Z",
     "iopub.status.idle": "2024-04-22T23:46:31.064056Z",
     "shell.execute_reply": "2024-04-22T23:46:31.062822Z"
    },
    "papermill": {
     "duration": 0.026452,
     "end_time": "2024-04-22T23:46:31.066493",
     "exception": false,
     "start_time": "2024-04-22T23:46:31.040041",
     "status": "completed"
    },
    "tags": []
   },
   "outputs": [
    {
     "name": "stdout",
     "output_type": "stream",
     "text": [
      "samantha smith\n",
      "james lee\n"
     ]
    }
   ],
   "source": [
    "users = [\n",
    "    ['32415', ['mike', 'reed'], 32, ['electronics', 'sport', 'books'],\n",
    "     [894, 213, 173]],\n",
    "    ['31980', ['kate', 'morgan'], 24, ['clothes', 'books'], [439,\n",
    "     390]],\n",
    "    ['32156', ['john', 'doe'], 37, ['electronics', 'home', 'food'],\n",
    "     [459, 120, 99]],\n",
    "    ['32761', ['samantha', 'smith'], 29, ['clothes', 'electronics',\n",
    "     'beauty'], [299, 679, 85]],\n",
    "    ['32984', ['david', 'white'], 41, ['books', 'home', 'sport'], [234,\n",
    "     329, 243]],\n",
    "    ['33001', ['emily', 'brown'], 26, ['beauty', 'home', 'food'], [213,\n",
    "     659, 79]],\n",
    "    ['33767', ['maria', 'garcia'], 33, ['clothes', 'food', 'beauty'],\n",
    "     [499, 189, 63]],\n",
    "    ['33912', ['jose', 'martinez'], 22, ['sport', 'electronics', 'home'\n",
    "     ], [259, 549, 109]],\n",
    "    ['34009', ['lisa', 'wilson'], 35, ['home', 'books', 'clothes'],\n",
    "     [329, 189, 329]],\n",
    "    ['34278', ['james', 'lee'], 28, ['beauty', 'clothes', 'electronics'\n",
    "     ], [189, 299, 579]],\n",
    "    ]\n",
    "\n",
    "\n",
    "for user in users:\n",
    "    if user[2] < 30 and sum(user[4]) > 1000:\n",
    "        user[1] = ' '.join(user[1])\n",
    "        print(user[1])"
   ]
  },
  {
   "cell_type": "markdown",
   "id": "73e61c19",
   "metadata": {
    "papermill": {
     "duration": 0.009054,
     "end_time": "2024-04-22T23:46:31.084820",
     "exception": false,
     "start_time": "2024-04-22T23:46:31.075766",
     "status": "completed"
    },
    "tags": []
   },
   "source": [
    "Task 12\n",
    "Now let's print the name and age of all users who bought clothes. Print the name and age in the same print statement."
   ]
  },
  {
   "cell_type": "code",
   "execution_count": 13,
   "id": "dd3ed01f",
   "metadata": {
    "execution": {
     "iopub.execute_input": "2024-04-22T23:46:31.105740Z",
     "iopub.status.busy": "2024-04-22T23:46:31.105274Z",
     "iopub.status.idle": "2024-04-22T23:46:31.118810Z",
     "shell.execute_reply": "2024-04-22T23:46:31.117481Z"
    },
    "papermill": {
     "duration": 0.027139,
     "end_time": "2024-04-22T23:46:31.121367",
     "exception": false,
     "start_time": "2024-04-22T23:46:31.094228",
     "status": "completed"
    },
    "tags": []
   },
   "outputs": [
    {
     "name": "stdout",
     "output_type": "stream",
     "text": [
      "kate morgan 24\n",
      "samantha smith 29\n",
      "maria garcia 33\n",
      "lisa wilson 35\n",
      "james lee 28\n"
     ]
    }
   ],
   "source": [
    "users = [\n",
    "    ['32415', ['mike', 'reed'], 32, ['electronics', 'sport', 'books'],\n",
    "     [894, 213, 173]],\n",
    "    ['31980', ['kate', 'morgan'], 24, ['clothes', 'books'], [439,\n",
    "     390]],\n",
    "    ['32156', ['john', 'doe'], 37, ['electronics', 'home', 'food'],\n",
    "     [459, 120, 99]],\n",
    "    ['32761', ['samantha', 'smith'], 29, ['clothes', 'electronics',\n",
    "     'beauty'], [299, 679, 85]],\n",
    "    ['32984', ['david', 'white'], 41, ['books', 'home', 'sport'], [234,\n",
    "     329, 243]],\n",
    "    ['33001', ['emily', 'brown'], 26, ['beauty', 'home', 'food'], [213,\n",
    "     659, 79]],\n",
    "    ['33767', ['maria', 'garcia'], 33, ['clothes', 'food', 'beauty'],\n",
    "     [499, 189, 63]],\n",
    "    ['33912', ['jose', 'martinez'], 22, ['sport', 'electronics', 'home'\n",
    "     ], [259, 549, 109]],\n",
    "    ['34009', ['lisa', 'wilson'], 35, ['home', 'books', 'clothes'],\n",
    "     [329, 189, 329]],\n",
    "    ['34278', ['james', 'lee'], 28, ['beauty', 'clothes', 'electronics'\n",
    "     ], [189, 299, 579]],\n",
    "    ]\n",
    "\n",
    "for user in users:\n",
    "    if 'clothes' in user[3]:\n",
    "        user[1] = ' '.join(user[1])\n",
    "        print(user[1], user[2])"
   ]
  },
  {
   "cell_type": "markdown",
   "id": "2cb51282",
   "metadata": {
    "papermill": {
     "duration": 0.009004,
     "end_time": "2024-04-22T23:46:31.139822",
     "exception": false,
     "start_time": "2024-04-22T23:46:31.130818",
     "status": "completed"
    },
    "tags": []
   },
   "source": []
  }
 ],
 "metadata": {
  "kaggle": {
   "accelerator": "none",
   "dataSources": [],
   "dockerImageVersionId": 30702,
   "isGpuEnabled": false,
   "isInternetEnabled": false,
   "language": "python",
   "sourceType": "notebook"
  },
  "kernelspec": {
   "display_name": "Python 3",
   "language": "python",
   "name": "python3"
  },
  "language_info": {
   "codemirror_mode": {
    "name": "ipython",
    "version": 3
   },
   "file_extension": ".py",
   "mimetype": "text/x-python",
   "name": "python",
   "nbconvert_exporter": "python",
   "pygments_lexer": "ipython3",
   "version": "3.10.13"
  },
  "papermill": {
   "default_parameters": {},
   "duration": 5.41902,
   "end_time": "2024-04-22T23:46:31.670402",
   "environment_variables": {},
   "exception": null,
   "input_path": "__notebook__.ipynb",
   "output_path": "__notebook__.ipynb",
   "parameters": {},
   "start_time": "2024-04-22T23:46:26.251382",
   "version": "2.5.0"
  }
 },
 "nbformat": 4,
 "nbformat_minor": 5
}
